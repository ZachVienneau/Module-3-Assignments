{
 "cells": [
  {
   "cell_type": "markdown",
   "id": "5745c672-87ab-498d-8568-c925bb57bdb2",
   "metadata": {},
   "source": [
    "## Homework 01: First Steps with Linear Regression\n",
    "\n",
    "This homework will introduce you to foundational techniques in downloading and setting up datasets, running `sklearn` models, and examining their results. The primary goal is to establish the workflow for accessing and submitting assignments, writing basic code, and interpreting outputs. This assignment will also help us test the autograder and ensure that feedback mechanisms work seamlessly.\n",
    "\n",
    "### Submission Instructions via Gradescope\n",
    "\n",
    "We will use Gradescope for homework submissions this term. Please follow these instructions carefully:\n",
    "\n",
    "1. **Absolutely do not do either of these**, which will cause the autograder to fail, resulting in a 0 for the assignment or that problem:\n",
    "\n",
    "   - **Do not rename the file**: It must be submitted as  **`Homework_01.ipynb`**. \n",
    "\n",
    "   - **Do not make any changes to the cells containing the grading code**, e.g.,\n",
    "```python\n",
    "            # Graded Answer\n",
    "            # DO NOT change this cell in any way          \n",
    "\n",
    "            print(f'a1 = ${a1:,}')\n",
    "```\n",
    "\n",
    "\n",
    "2. **Verify before submission**  \n",
    "   - Before submitting, run `Restart Kernel and Run All` to ensure that all cells execute without errors. We do **not** run your notebook before grading it. \n",
    "\n",
    "3. **Submitting to Gradescope**  \n",
    "   - You should have received an email inviting you to join Gradescope. If not, please contact us immediately.  \n",
    "   - Log in to [Gradescope](https://gradescope.com), navigate to your dashboard, and locate **Homework 01**.  \n",
    "   - Drag and drop the following file into the upload section:\n",
    "     - **`Homework_01.ipynb`**\n",
    "   - Click `Upload` to submit your file.\n",
    "\n",
    "\n",
    "4. **Review your submission**  \n",
    "   - You will receive a confirmation email after submission.\n",
    "   - You will receive the autograder results on Saturday morning after the last late deadline has passed; we will also inform you of the expected results.  \n",
    "   - For the first two homeworks, **multiple resubmissions** will be allowed and **no late penalty** will be applied. Use this opportunity to get your debugging and submission workflow established.   \n",
    "   - Starting from Homework 03, **only one submission will be permitted** and the **late penalty** (10% per date late up to 5 days) will be applied. You will need to ensure that your work is complete and carefully verified before uploading.\n",
    "  \n",
    "5. **Review your grade**\n",
    "  - We will inform you of the expected results after grading. We do not distribute full solutions.\n",
    "  - If you believe there is a problem with your grades, you may submit a **regrade request** on Gradescope. Please be specific. Requests such as \"Please regrade the entire assignment\" will result in our repeating the previous sentence. Regrade requests must be made within two weeks of receiving your grade. "
   ]
  },
  {
   "cell_type": "code",
   "execution_count": 51,
   "id": "ed520040-cd86-4bd2-941b-eb053664d9b9",
   "metadata": {},
   "outputs": [],
   "source": [
    "# Useful imports and utilities\n",
    "\n",
    "import numpy as np\n",
    "import pandas as pd\n",
    "import matplotlib.pyplot as plt\n",
    "import os\n",
    "\n",
    "\n",
    "from sklearn.metrics import mean_squared_error, mean_absolute_error, r2_score\n",
    "from sklearn.linear_model import LinearRegression\n",
    "import matplotlib.ticker as mtick"
   ]
  },
  {
   "cell_type": "markdown",
   "id": "84a08c98-0626-4ad5-ab16-d167c8d7801a",
   "metadata": {},
   "source": [
    "## Problem:  Linear Regression on the Kaggle Salary Dataset\n",
    "\n",
    "This is a great dataset to start with: it is a univariate regression dataset predicting salary from years of experience. It is probably the smallest dataset on Kaggle!\n",
    "\n",
    "### (A) Install `kagglehub` if you don't already have it\n",
    "\n",
    "The first thing to do is to install `kagglehub` if you don't have it already. If you *do*, make sure you have the most recent version."
   ]
  },
  {
   "cell_type": "code",
   "execution_count": 52,
   "id": "2a613731-7adf-42d3-94d4-7a6d57b829d5",
   "metadata": {},
   "outputs": [
    {
     "name": "stdout",
     "output_type": "stream",
     "text": [
      "Requirement already satisfied: kagglehub in /usr/local/python/3.12.1/lib/python3.12/site-packages (0.3.12)\n",
      "Requirement already satisfied: packaging in /home/codespace/.local/lib/python3.12/site-packages (from kagglehub) (24.2)\n",
      "Requirement already satisfied: pyyaml in /home/codespace/.local/lib/python3.12/site-packages (from kagglehub) (6.0.2)\n",
      "Requirement already satisfied: requests in /home/codespace/.local/lib/python3.12/site-packages (from kagglehub) (2.32.3)\n",
      "Requirement already satisfied: tqdm in /usr/local/python/3.12.1/lib/python3.12/site-packages (from kagglehub) (4.67.1)\n",
      "Requirement already satisfied: charset-normalizer<4,>=2 in /home/codespace/.local/lib/python3.12/site-packages (from requests->kagglehub) (3.4.1)\n",
      "Requirement already satisfied: idna<4,>=2.5 in /home/codespace/.local/lib/python3.12/site-packages (from requests->kagglehub) (3.10)\n",
      "Requirement already satisfied: urllib3<3,>=1.21.1 in /home/codespace/.local/lib/python3.12/site-packages (from requests->kagglehub) (2.3.0)\n",
      "Requirement already satisfied: certifi>=2017.4.17 in /home/codespace/.local/lib/python3.12/site-packages (from requests->kagglehub) (2025.1.31)\n",
      "\n",
      "\u001b[1m[\u001b[0m\u001b[34;49mnotice\u001b[0m\u001b[1;39;49m]\u001b[0m\u001b[39;49m A new release of pip is available: \u001b[0m\u001b[31;49m25.0.1\u001b[0m\u001b[39;49m -> \u001b[0m\u001b[32;49m25.1.1\u001b[0m\n",
      "\u001b[1m[\u001b[0m\u001b[34;49mnotice\u001b[0m\u001b[1;39;49m]\u001b[0m\u001b[39;49m To update, run: \u001b[0m\u001b[32;49mpython3 -m pip install --upgrade pip\u001b[0m\n"
     ]
    }
   ],
   "source": [
    "# Since you only need to do this once, uncomment the following line, run the cell, and then recomment or delete this cell.\n",
    "# Or do this the usual way you do installs (e.g., in Terminal on a Mac). \n",
    "\n",
    "!pip install kagglehub\n"
   ]
  },
  {
   "cell_type": "code",
   "execution_count": 53,
   "id": "24b4a6b8-1127-4e6b-a255-9799e2e442b0",
   "metadata": {},
   "outputs": [
    {
     "name": "stdout",
     "output_type": "stream",
     "text": [
      "Kagglehub version: 0.3.12\n"
     ]
    }
   ],
   "source": [
    "import kagglehub\n",
    "print(\"Kagglehub version:\", kagglehub.__version__)\n",
    "  "
   ]
  },
  {
   "cell_type": "code",
   "execution_count": 54,
   "id": "7d49697d-bd83-4856-bbeb-dbc56685a75c",
   "metadata": {},
   "outputs": [],
   "source": [
    "# If you need to upgrade, uncomment and run this cell, then delete or recomment.\n",
    "# But do not worry excessively about upgrading to the most recent version at this point, \n",
    "# even if you get \"Warning: Looks like you're using an outdated....\" when you download the dataset.\n",
    "\n",
    "# !pip install --upgrade kagglehub\n"
   ]
  },
  {
   "cell_type": "markdown",
   "id": "304f8b9d-a1d5-456c-b819-a73889226886",
   "metadata": {},
   "source": [
    "### (B) Download the dataset and prepare it for modeling.\n",
    "\n",
    "Continue running cells as shown, following the instructions in text cells and comments in code cells (usually \"Your code here\"), and then answer the questions below.\n",
    "\n",
    "#### B.1 \n",
    "\n",
    "Download the dataset"
   ]
  },
  {
   "cell_type": "code",
   "execution_count": 55,
   "id": "45d8b9ab-7034-4af4-ac4f-0ecdd6f89d6f",
   "metadata": {},
   "outputs": [
    {
     "name": "stdout",
     "output_type": "stream",
     "text": [
      "Path to dataset files: /home/codespace/.cache/kagglehub/datasets/abhishek14398/salary-dataset-simple-linear-regression/versions/1\n"
     ]
    }
   ],
   "source": [
    "# Download latest version, which will be installed on your local machine\n",
    "# After running this cell once, you could comment this out.  \n",
    "\n",
    "salary_dataset_path = kagglehub.dataset_download(\"abhishek14398/salary-dataset-simple-linear-regression\")\n",
    "\n",
    "print(\"Path to dataset files:\", salary_dataset_path)"
   ]
  },
  {
   "cell_type": "code",
   "execution_count": 56,
   "id": "c661dd08-6f9e-4b90-a342-fa1d7dfc4428",
   "metadata": {},
   "outputs": [],
   "source": [
    "# Assuming the dataset is named \"Salary_dataset.csv\" inside the path\n",
    "salary_dataset_path_to_file = os.path.join(salary_dataset_path, \"Salary_dataset.csv\")\n",
    "salary_data_raw = pd.read_csv(salary_dataset_path_to_file)"
   ]
  },
  {
   "cell_type": "markdown",
   "id": "4c019d76-a0a1-4ba5-91ba-36083059edbf",
   "metadata": {},
   "source": [
    "#### B.2  \n",
    "\n",
    "Print out the head and info about the dataset"
   ]
  },
  {
   "cell_type": "code",
   "execution_count": 57,
   "id": "c9ea9a31-8786-4b9a-a745-e01ec69096ff",
   "metadata": {
    "tags": []
   },
   "outputs": [
    {
     "name": "stdout",
     "output_type": "stream",
     "text": [
      "Dataset preview:\n",
      "   Unnamed: 0  YearsExperience   Salary\n",
      "0           0              1.2  39344.0\n",
      "1           1              1.4  46206.0\n",
      "2           2              1.6  37732.0\n",
      "3           3              2.1  43526.0\n",
      "4           4              2.3  39892.0\n"
     ]
    }
   ],
   "source": [
    "# Your code here\n",
    "\n",
    "print(\"Dataset preview:\")\n",
    "print(salary_data_raw.head())"
   ]
  },
  {
   "cell_type": "code",
   "execution_count": 58,
   "id": "4972d274-7f3e-45c6-a9f9-a15d8f800bcf",
   "metadata": {},
   "outputs": [
    {
     "name": "stdout",
     "output_type": "stream",
     "text": [
      "\n",
      "Dataset info:\n",
      "<class 'pandas.core.frame.DataFrame'>\n",
      "RangeIndex: 30 entries, 0 to 29\n",
      "Data columns (total 3 columns):\n",
      " #   Column           Non-Null Count  Dtype  \n",
      "---  ------           --------------  -----  \n",
      " 0   Unnamed: 0       30 non-null     int64  \n",
      " 1   YearsExperience  30 non-null     float64\n",
      " 2   Salary           30 non-null     float64\n",
      "dtypes: float64(2), int64(1)\n",
      "memory usage: 852.0 bytes\n"
     ]
    }
   ],
   "source": [
    "# Your code here\n",
    "\n",
    "print(\"\\nDataset info:\")\n",
    "salary_data_raw.info()"
   ]
  },
  {
   "cell_type": "markdown",
   "id": "ea9116c6-512d-4483-a753-8b85b2bcdb63",
   "metadata": {},
   "source": [
    "#### B.3  \n",
    "\n",
    "Using Pandas `hist()`, display histograms of the columns.  Set the `bins` parameter to make the visualization as useful as possible (YMMV, so don't stress about it).\n",
    "\n",
    "**Pro tip**: Put `plt.show()` in the last line of the cell to keep from printing out\n",
    "the (ugly) return value `array([[<Axes: title={'...` "
   ]
  },
  {
   "cell_type": "code",
   "execution_count": 59,
   "id": "776850f9-498a-4341-affe-92fe4882c17a",
   "metadata": {
    "tags": []
   },
   "outputs": [
    {
     "data": {
      "image/png": "[encoded data removed]",
      "text/plain": [
       "<Figure size 1000x400 with 4 Axes>"
      ]
     },
     "metadata": {},
     "output_type": "display_data"
    }
   ],
   "source": [
    "# Your code here\n",
    "\n",
    "salary_data_raw.hist(bins=10, figsize=(10, 4), edgecolor='black')\n",
    "\n",
    "plt.tight_layout()\n",
    "plt.show()"
   ]
  },
  {
   "cell_type": "markdown",
   "id": "87a45ed9-08ad-4076-b28a-34430a8e0d2b",
   "metadata": {},
   "source": [
    "#### B.4  \n",
    "\n",
    "Print out some **simple stats about the data**."
   ]
  },
  {
   "cell_type": "markdown",
   "id": "907fc7a0-cd5f-4896-bf7b-cf1b9d3651ec",
   "metadata": {},
   "source": [
    "#### TODO:\n",
    "\n",
    "Set the variable `a1` to an expression which returns the maximum salary in the dataset."
   ]
  },
  {
   "cell_type": "code",
   "execution_count": 60,
   "id": "5888ef63-db9e-4cbf-b9ba-9a1d26f0485e",
   "metadata": {},
   "outputs": [],
   "source": [
    "## Your answer here, NOT in the next cell\n",
    "\n",
    "a1 = salary_data_raw['Salary'].max()    # Replace 0 with an expression returning an integer"
   ]
  },
  {
   "cell_type": "code",
   "execution_count": 61,
   "id": "09bc75d1-0bf9-412d-978c-742428d4c363",
   "metadata": {},
   "outputs": [
    {
     "name": "stdout",
     "output_type": "stream",
     "text": [
      "a1 = $122,392.0\n"
     ]
    }
   ],
   "source": [
    "# Graded Answer\n",
    "# DO NOT change this cell in any way          \n",
    "\n",
    "print(f'a1 = ${a1:,}')                      # This will print out in proper currency format"
   ]
  },
  {
   "cell_type": "markdown",
   "id": "771ba437-e00d-44db-bc04-5ff4559a0f51",
   "metadata": {},
   "source": [
    "#### TODO:\n",
    "\n",
    "Set the variable `a2` to an expression which returns the average number of years  of experience in the dataset. "
   ]
  },
  {
   "cell_type": "code",
   "execution_count": 62,
   "id": "9ec96907-5873-4360-8d72-70cb07576ca4",
   "metadata": {},
   "outputs": [],
   "source": [
    "## Your answer here, NOT in the next cell\n",
    "\n",
    "a2 = salary_data_raw['YearsExperience'].mean()    # Replace 0.0 with an expression returning a float"
   ]
  },
  {
   "cell_type": "code",
   "execution_count": 63,
   "id": "ab324378-45a7-41d2-9cfc-ee9775abe27c",
   "metadata": {},
   "outputs": [
    {
     "name": "stdout",
     "output_type": "stream",
     "text": [
      "a2 = 5.41\n"
     ]
    }
   ],
   "source": [
    "# Graded Answer\n",
    "# DO NOT change this cell in any way          \n",
    "\n",
    "print(f'a2 = {a2:.2f}')               # This will print to 2 decimal places"
   ]
  },
  {
   "cell_type": "markdown",
   "id": "e982e21f-78d9-481b-9e23-34df322c50dd",
   "metadata": {},
   "source": [
    "### (C) Clean the data\n",
    "\n",
    "There seems to be a problem, namely an extra column that is completely unnecesssary! \n",
    "\n",
    "1. Delete that column using appropriate Pandas code and assign the result to a new variable `salary_data`;\n",
    "2. Check to see all is well, by setting the variable `feature_names` to a **Python list** of the feature names in the new dataframe and then printing it (you might want to do this before and after, just to get the precise name of the column to remove). (Hint: if your value is in the form `Index(...)` then it is not a Python list.)"
   ]
  },
  {
   "cell_type": "code",
   "execution_count": 64,
   "id": "31e2554f-2f52-4bd4-8f7c-a59d2b116b4d",
   "metadata": {
    "otter": {
     "tests": [
      "q5"
     ]
    },
    "tags": []
   },
   "outputs": [
    {
     "name": "stdout",
     "output_type": "stream",
     "text": [
      "Original columns: ['Unnamed: 0', 'YearsExperience', 'Salary']\n",
      "Features: ['YearsExperience', 'Salary']\n"
     ]
    }
   ],
   "source": [
    "# Your code here (not graded)\n",
    "\n",
    "print(\"Original columns:\", list(salary_data_raw.columns))\n",
    "\n",
    "salary_data = salary_data_raw.drop(columns=[\"Unnamed: 0\"], errors=\"ignore\")\n",
    "\n",
    "feature_names = list(salary_data.columns)\n",
    "print(f'Features: {feature_names}')"
   ]
  },
  {
   "cell_type": "markdown",
   "id": "b8a4f3ec-f5e7-48c2-b927-ecfc23ec8b0b",
   "metadata": {},
   "source": [
    "#### TODO:\n",
    "\n",
    "Set the variable `a3` to the shape of the dataset, a pair in the form (n_rows,n_cols). "
   ]
  },
  {
   "cell_type": "code",
   "execution_count": 65,
   "id": "a46eb7fb-d677-46f6-b159-c4d6296f1c98",
   "metadata": {},
   "outputs": [],
   "source": [
    "# TODO: Your answer here \n",
    "\n",
    "a3 = salary_data.shape  # Replace 0,0 with an expression calculating this pair"
   ]
  },
  {
   "cell_type": "code",
   "execution_count": 66,
   "id": "239e63b7-11ca-4360-bb8f-709433e2093b",
   "metadata": {
    "otter": {
     "tests": [
      "q6"
     ]
    },
    "tags": []
   },
   "outputs": [
    {
     "name": "stdout",
     "output_type": "stream",
     "text": [
      "a3 = (30, 2)\n"
     ]
    }
   ],
   "source": [
    "# Graded Answer\n",
    "# DO NOT change this cell in any way  \n",
    "\n",
    "print(f'a3 = {a3}')              "
   ]
  },
  {
   "cell_type": "markdown",
   "id": "e3ab5bdd-4312-4121-9d3e-14e91cee3a38",
   "metadata": {},
   "source": [
    "### (D) Convert the dataframe to (X,y) form for processing. \n",
    "\n",
    "Create a numpy array `X` from the first column and array `y` from the second column. Create `X` by deleting the second column from a copy of the dataframe, **not** by just selecting the first column (which won't work when there is more than one feature). For `y` you can just select the second column. \n",
    "\n",
    "#### TODO\n",
    "\n",
    "Confirm by setting the variable `a4` to the shape of `X`.  (You should probably also check the shape of `y`.)"
   ]
  },
  {
   "cell_type": "code",
   "execution_count": 67,
   "id": "b57edd1d-c342-4211-b4a8-f472b9ebc8c9",
   "metadata": {
    "otter": {
     "tests": [
      "q7"
     ]
    },
    "tags": []
   },
   "outputs": [],
   "source": [
    "# Your code here\n",
    "\n",
    "X = salary_data.drop(columns=[\"Salary\"]).values\n",
    "\n",
    "y = salary_data[\"Salary\"].values\n",
    "\n",
    "a4 = X.shape                # replace 0,0 with an expression returning the shape of X\n",
    "         "
   ]
  },
  {
   "cell_type": "code",
   "execution_count": 68,
   "id": "7d85c4ce-8667-404c-a362-01af4c21d322",
   "metadata": {},
   "outputs": [
    {
     "name": "stdout",
     "output_type": "stream",
     "text": [
      "a4 = (30, 1)\n"
     ]
    }
   ],
   "source": [
    "# Graded Answer\n",
    "# DO NOT change this cell in any way  \n",
    "\n",
    "print(f'a4 = {a4}')    "
   ]
  },
  {
   "cell_type": "markdown",
   "id": "f6f21e9a-0bc8-4964-9b95-f1c587312b23",
   "metadata": {},
   "source": [
    "### (E) Display the data as a scatterplot\n",
    "\n",
    "Display a scatterplot of the data using appropriate title, legend, and axis labels.  YMMV, but make it attractive!\n",
    "\n",
    "**Pro tip**:  To render the Y-axis labels as dollars, use the following line (we imported `mtick` above):\n",
    "\n",
    "```python\n",
    "plt.gca().yaxis.set_major_formatter(mtick.StrMethodFormatter('${x:,.0f}'))  # e.g., $40,000\n",
    "```"
   ]
  },
  {
   "cell_type": "code",
   "execution_count": 69,
   "id": "ae268ccf-83dc-43b9-b73e-b26298246c7b",
   "metadata": {
    "tags": []
   },
   "outputs": [
    {
     "data": {
      "image/png": "[encoded data removed]",
      "text/plain": [
       "<Figure size 800x500 with 1 Axes>"
      ]
     },
     "metadata": {},
     "output_type": "display_data"
    }
   ],
   "source": [
    "# Your code here (not graded)\n",
    "\n",
    "plt.figure(figsize=(8, 5))\n",
    "plt.scatter(X, y, color='dodgerblue', label='Data Points', edgecolors='black')\n",
    "\n",
    "plt.title(\"Salary vs. Years of Experience\", fontsize=14)\n",
    "plt.xlabel(\"Years of Experience\", fontsize=12)\n",
    "plt.ylabel(\"Salary\", fontsize=12)\n",
    "\n",
    "plt.gca().yaxis.set_major_formatter(mtick.StrMethodFormatter('${x:,.0f}'))\n",
    "\n",
    "plt.grid(True, linestyle='--', alpha=0.5)\n",
    "plt.legend()\n",
    "plt.tight_layout()\n",
    "plt.show()\n"
   ]
  },
  {
   "cell_type": "markdown",
   "id": "a00558b5-a56d-4fb2-b1c7-11cfa7ae244e",
   "metadata": {},
   "source": [
    " ### (F) Linear Regression in Sklearn\n",
    " \n",
    "Now we will run linear regression on the dataset, plot the regression line, and print out the intercept and slope of the\n",
    "least-squares line with some evaluation metrics."
   ]
  },
  {
   "cell_type": "markdown",
   "id": "bc51a49c-8374-4f87-b1d7-1588cd598788",
   "metadata": {},
   "source": [
    "#### TODO\n",
    "\n",
    "Train your model on the whole dataset, and set `a5` to the intercept (a float)  (note: `sklearn` stores the intercept/bias separately from the coefficients)"
   ]
  },
  {
   "cell_type": "code",
   "execution_count": 70,
   "id": "20b43616-86e9-490a-b1e8-27e1948acf6d",
   "metadata": {
    "otter": {
     "tests": [
      "q9"
     ]
    },
    "tags": []
   },
   "outputs": [],
   "source": [
    "# Your code here\n",
    "\n",
    "model = LinearRegression()\n",
    "model.fit(X, y)\n",
    "\n",
    "a5 = model.intercept_         # replace 0.0 with an expression returning the intercept value   "
   ]
  },
  {
   "cell_type": "code",
   "execution_count": 71,
   "id": "6132fd46-ff6d-44eb-a553-26ae31a8b61d",
   "metadata": {},
   "outputs": [
    {
     "name": "stdout",
     "output_type": "stream",
     "text": [
      "a5 = $24,848.20\n"
     ]
    }
   ],
   "source": [
    "# Graded Answer\n",
    "# DO NOT change this cell in any way  \n",
    "\n",
    "print(f'a5 = ${a5:,.2f}')              # will print in dollars"
   ]
  },
  {
   "cell_type": "markdown",
   "id": "5cd4ec42-f410-4d9b-aee3-f92e76474511",
   "metadata": {},
   "source": [
    "#### TODO\n",
    "\n",
    "Set `a6` to the slope (a float)."
   ]
  },
  {
   "cell_type": "code",
   "execution_count": 72,
   "id": "abc477fb-1557-4a78-bd07-a3e8134c93da",
   "metadata": {
    "otter": {
     "tests": [
      "q10"
     ]
    },
    "tags": []
   },
   "outputs": [],
   "source": [
    "# Your code here\n",
    "\n",
    "model = LinearRegression()\n",
    "model.fit(X, y)\n",
    "\n",
    "a6 = model.coef_[0]  # replace 0.0 with an expression returning the slope value   "
   ]
  },
  {
   "cell_type": "code",
   "execution_count": 73,
   "id": "9ee8a562-411c-485f-b82a-fc8078722752",
   "metadata": {},
   "outputs": [
    {
     "name": "stdout",
     "output_type": "stream",
     "text": [
      "a6 = $9,449.96\n"
     ]
    }
   ],
   "source": [
    "# Graded Answer\n",
    "# DO NOT change this cell in any way  \n",
    "\n",
    "print(f'a6 = ${a6:,.2f}')              # will print in currency format, since it is dollars per years of experience!"
   ]
  },
  {
   "cell_type": "markdown",
   "id": "739bdb93-6e71-4c6f-9df6-da79a9e8b197",
   "metadata": {},
   "source": [
    "#### Redo the plot!\n",
    "\n",
    "Now you must rewrite your code for the scatterplot to overlay the **regression line in red**. The easiest way to do this\n",
    "is to  use `model.predict(X)` to get the predicted values, and then use `plt.plot()` to overlay the line."
   ]
  },
  {
   "cell_type": "code",
   "execution_count": 74,
   "id": "d71062e7-9630-470a-aac9-447c64c3047e",
   "metadata": {},
   "outputs": [
    {
     "data": {
      "image/png": "[encoded data removed]",
      "text/plain": [
       "<Figure size 800x500 with 1 Axes>"
      ]
     },
     "metadata": {},
     "output_type": "display_data"
    }
   ],
   "source": [
    "# Your code here (not graded)\n",
    "\n",
    "y_pred = model.predict(X)\n",
    "\n",
    "plt.figure(figsize=(8, 5))\n",
    "plt.scatter(X, y, color='dodgerblue', label='Data Points', edgecolors='black')\n",
    "plt.plot(X, y_pred, color='red', label='Regression Line')\n",
    "\n",
    "plt.title(\"Salary vs. Years of Experience with Regression Line\", fontsize=14)\n",
    "plt.xlabel(\"Years of Experience\", fontsize=12)\n",
    "plt.ylabel(\"Salary\", fontsize=12)\n",
    "plt.gca().yaxis.set_major_formatter(mtick.StrMethodFormatter('${x:,.0f}'))\n",
    "\n",
    "plt.legend()\n",
    "plt.grid(True, linestyle='--', alpha=0.5)\n",
    "plt.tight_layout()\n",
    "plt.show()\n",
    "\n"
   ]
  },
  {
   "cell_type": "markdown",
   "id": "74368e99-c703-4de0-93ba-a8534a7022d1",
   "metadata": {},
   "source": [
    "#### TODO\n",
    "\n",
    "Set `a7` to the mean square error (a float) of the model on the whole dataset.\n",
    "Hint: get MSE from `y` and `y_pred`, which you just calculated. \n",
    "Another Hint: Look at the import cell!"
   ]
  },
  {
   "cell_type": "code",
   "execution_count": 75,
   "id": "ecef4f8c-cf46-4385-94ac-3b04fcad809e",
   "metadata": {
    "otter": {
     "tests": [
      "q11"
     ]
    },
    "tags": []
   },
   "outputs": [],
   "source": [
    "# Your code here\n",
    "\n",
    "a7 = mean_squared_error(y, y_pred)       # replace 0.0 with an expression returning the MSE   "
   ]
  },
  {
   "cell_type": "code",
   "execution_count": 76,
   "id": "27cfebd7-4c19-489f-bab9-b60f732e797a",
   "metadata": {},
   "outputs": [
    {
     "name": "stdout",
     "output_type": "stream",
     "text": [
      "a7 = 31270951.7223\n"
     ]
    }
   ],
   "source": [
    "# Graded Answer\n",
    "# DO NOT change this cell in any way  \n",
    "\n",
    "print(f'a7 = {a7:.4f}')              # will print with 4 decimal places, note that the units are dollars squared!"
   ]
  },
  {
   "cell_type": "markdown",
   "id": "51dc7739-afff-4646-a786-ea533784b946",
   "metadata": {},
   "source": [
    "#### TODO\n",
    "\n",
    "Set `a8` to the **root** mean square error (a float) of the model on the whole dataset."
   ]
  },
  {
   "cell_type": "code",
   "execution_count": 77,
   "id": "22655ca6-bbec-4713-9777-eea442c3501a",
   "metadata": {
    "otter": {
     "tests": [
      "q11"
     ]
    },
    "tags": []
   },
   "outputs": [],
   "source": [
    "# Your code here\n",
    "a8 = np.sqrt(a7)         # replace 0.0 with an expression returning the RMSE   "
   ]
  },
  {
   "cell_type": "code",
   "execution_count": 78,
   "id": "98ea9bc5-bf0d-470d-9eab-065c07da6dd6",
   "metadata": {},
   "outputs": [
    {
     "name": "stdout",
     "output_type": "stream",
     "text": [
      "a8 = $5,592.04\n"
     ]
    }
   ],
   "source": [
    "# Graded Answer\n",
    "# DO NOT change this cell in any way  \n",
    "\n",
    "print(f'a8 = ${a8:,.2f}')              # will print in dollars"
   ]
  },
  {
   "cell_type": "markdown",
   "id": "a4547761-9760-4657-8bd9-0a0f28da92de",
   "metadata": {},
   "source": [
    "#### TODO\n",
    "\n",
    "Set `a9` to the mean absolute error (a float) of the model on the whole dataset."
   ]
  },
  {
   "cell_type": "code",
   "execution_count": 79,
   "id": "05201109-9e6f-4424-b8d4-0c0768fe55b7",
   "metadata": {
    "otter": {
     "tests": [
      "q12"
     ]
    },
    "tags": []
   },
   "outputs": [],
   "source": [
    "# Your code here\n",
    "a9 = mean_absolute_error(y, y_pred)             # replace 0.0 with an expression returning the MAE"
   ]
  },
  {
   "cell_type": "code",
   "execution_count": 80,
   "id": "b8492093-f4dc-4a9c-9616-d5c0aab4c727",
   "metadata": {},
   "outputs": [
    {
     "name": "stdout",
     "output_type": "stream",
     "text": [
      "a9 = $4,644.20\n"
     ]
    }
   ],
   "source": [
    "# Graded Answer\n",
    "# DO NOT change this cell in any way  \n",
    "\n",
    "print(f'a9 = ${a9:,.2f}')              # will print in dollars"
   ]
  },
  {
   "cell_type": "markdown",
   "id": "aa7bf153-c6e4-4e78-884b-140849f32a27",
   "metadata": {},
   "source": [
    "#### TODO\n",
    "\n",
    "Set `a10` to the $R^2$ score (a float) for the model on the whole dataset. "
   ]
  },
  {
   "cell_type": "code",
   "execution_count": 81,
   "id": "606d3044-cf0f-4bd5-baff-a7849a908fbf",
   "metadata": {
    "otter": {
     "tests": [
      "q13"
     ]
    },
    "tags": []
   },
   "outputs": [],
   "source": [
    "# Your code here\n",
    "a10 = r2_score(y, y_pred)           # replace 0.0 with an expression returning the r2 value"
   ]
  },
  {
   "cell_type": "code",
   "execution_count": 82,
   "id": "012ba6a3-fd85-4eab-9697-76695186b6b6",
   "metadata": {},
   "outputs": [
    {
     "name": "stdout",
     "output_type": "stream",
     "text": [
      "a10 = 0.9570\n"
     ]
    }
   ],
   "source": [
    "# Graded Answer\n",
    "# DO NOT change this cell in any way  \n",
    "\n",
    "print(f'a10 = {a10:.4f}')              # will print with 4 decimal places - note that this is a percentage, but we usually just give a float"
   ]
  }
 ],
 "metadata": {
  "kernelspec": {
   "display_name": "Python 3",
   "language": "python",
   "name": "python3"
  },
  "language_info": {
   "codemirror_mode": {
    "name": "ipython",
    "version": 3
   },
   "file_extension": ".py",
   "mimetype": "text/x-python",
   "name": "python",
   "nbconvert_exporter": "python",
   "pygments_lexer": "ipython3",
   "version": "3.12.1"
  }
 },
 "nbformat": 4,
 "nbformat_minor": 5
}
